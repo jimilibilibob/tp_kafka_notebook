{
 "cells": [
  {
   "cell_type": "code",
   "execution_count": null,
   "metadata": {},
   "outputs": [],
   "source": [
    "import json\n",
    "from kafka import KafkaConsumer\n"
   ]
  },
  {
   "cell_type": "code",
   "execution_count": null,
   "metadata": {},
   "outputs": [],
   "source": [
    "consumer = KafkaConsumer(\"command\", bootstrap_servers='127.0.0.1:9092')\n",
    "\n",
    "for message in consumer:\n",
    "    command = json.loads(message.value.decode())\n",
    "    print(command)"
   ]
  },
  {
   "cell_type": "markdown",
   "metadata": {},
   "source": [
    "{'commestible': {'label': 'croissant', 'quantite': 3}, 'boisson': {'label': \"jus d'orange\", 'quantite': 1}}"
   ]
  },
  {
   "cell_type": "code",
   "execution_count": null,
   "metadata": {},
   "outputs": [],
   "source": [
    "consumer = KafkaConsumer(\"command\", bootstrap_servers='127.0.0.1:9092')\n",
    "stock={}\n",
    "\n",
    "for message in consumer:\n",
    "    command = json.loads(message.value.decode())\n",
    "    tot_command={}\n",
    "    \n",
    "    if command['commestible']['label'] not in stock.keys():\n",
    "        stock[command['commestible']['label']] = 0\n",
    "    \n",
    "    stock[command['commestible']['label']] += command['commestible']['quantite']\n",
    "    \n",
    "    print('{} + {}, total : {}'.format(\n",
    "        command['commestible']['label'],\n",
    "        command['commestible']['quantite'],\n",
    "        stock[command['commestible']['label']]))\n",
    "    \n",
    "    if command['boisson']['label'] not in stock.keys():\n",
    "        stock[command['boisson']['label']] = 0\n",
    "        \n",
    "    stock[command['boisson']['label']] += command['boisson']['quantite']\n",
    "    \n",
    "    print('{} + {}, total : {}'.format(\n",
    "        command['boisson']['label'],\n",
    "        command['boisson']['quantite'],\n",
    "        stock[command['boisson']['label']]))\n",
    "    print(\"---------------\")"
   ]
  }
 ],
 "metadata": {
  "kernelspec": {
   "display_name": "Python 3",
   "language": "python",
   "name": "python3"
  },
  "language_info": {
   "codemirror_mode": {
    "name": "ipython",
    "version": 3
   },
   "file_extension": ".py",
   "mimetype": "text/x-python",
   "name": "python",
   "nbconvert_exporter": "python",
   "pygments_lexer": "ipython3",
   "version": "3.7.6"
  }
 },
 "nbformat": 4,
 "nbformat_minor": 4
}
