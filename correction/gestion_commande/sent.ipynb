{
 "cells": [
  {
   "cell_type": "code",
   "execution_count": null,
   "metadata": {},
   "outputs": [],
   "source": [
    "!pip install kafka-python"
   ]
  },
  {
   "cell_type": "code",
   "execution_count": null,
   "metadata": {},
   "outputs": [],
   "source": [
    "import time\n",
    "from kafka import KafkaConsumer"
   ]
  },
  {
   "cell_type": "code",
   "execution_count": null,
   "metadata": {},
   "outputs": [],
   "source": [
    "def random_breakfast():\n",
    "    \n",
    "    commestible = [\"pain au chocolat\",\"croissant\",\"crêpe\",\"baguette\",\n",
    "                   \"baguette tradition\",\"brioche\",\"pain au raisin\",\"Chausson aux pommes\"]\n",
    "    qte_commestible = random.randrange(1,4)\n",
    "    commestible_order = commestible[random.randrange(0,len(commestible))]\n",
    "                                                     \n",
    "    boisson = [\"lait\",\"café\",\"eau\",\"jus de pomme\",\"jus d'orange\"]\n",
    "    qte_boisson = random.randrange(1,3)\n",
    "    boisson_order = boisson[random.randrange(0,len(boisson))]\n",
    "                                             \n",
    "    return {\n",
    "        \"commestible\":{ \"label\": commestible_order, \"quantite\": qte_commestible},\n",
    "        \"boisson\":{ \"label\": boisson_order, \"quantite\": qte_boisson}\n",
    "    }"
   ]
  },
  {
   "cell_type": "code",
   "execution_count": null,
   "metadata": {},
   "outputs": [],
   "source": [
    "import random\n",
    "import time\n",
    "import json\n",
    "from kafka import KafkaProducer\n",
    "\n",
    "producer = KafkaProducer(bootstrap_servers=\"127.0.0.1:9092\")\n",
    "\n",
    "while True:\n",
    "    producer.send(\"command\", json.dumps(random_breakfast()).encode())\n",
    "    print(\"Command sent at {}\".format(time.time()))\n",
    "    time.sleep(1)"
   ]
  }
 ],
 "metadata": {
  "kernelspec": {
   "display_name": "Python 3",
   "language": "python",
   "name": "python3"
  },
  "language_info": {
   "codemirror_mode": {
    "name": "ipython",
    "version": 3
   },
   "file_extension": ".py",
   "mimetype": "text/x-python",
   "name": "python",
   "nbconvert_exporter": "python",
   "pygments_lexer": "ipython3",
   "version": "3.7.6"
  }
 },
 "nbformat": 4,
 "nbformat_minor": 4
}
